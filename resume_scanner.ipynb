{
  "nbformat": 4,
  "nbformat_minor": 0,
  "metadata": {
    "colab": {
      "provenance": []
    },
    "kernelspec": {
      "name": "python3",
      "display_name": "Python 3"
    },
    "language_info": {
      "name": "python"
    }
  },
  "cells": [
    {
      "cell_type": "code",
      "execution_count": null,
      "metadata": {
        "colab": {
          "base_uri": "https://localhost:8080/"
        },
        "id": "N4DyV0AM_Wgf",
        "outputId": "16c8ba0f-97c7-49ed-df38-63f700ec6a84"
      },
      "outputs": [
        {
          "output_type": "stream",
          "name": "stdout",
          "text": [
            "Requirement already satisfied: docx2txt in /usr/local/lib/python3.10/dist-packages (0.8)\n",
            "Requirement already satisfied: scikit-learn in /usr/local/lib/python3.10/dist-packages (1.2.2)\n",
            "Requirement already satisfied: numpy>=1.17.3 in /usr/local/lib/python3.10/dist-packages (from scikit-learn) (1.25.2)\n",
            "Requirement already satisfied: scipy>=1.3.2 in /usr/local/lib/python3.10/dist-packages (from scikit-learn) (1.11.4)\n",
            "Requirement already satisfied: joblib>=1.1.1 in /usr/local/lib/python3.10/dist-packages (from scikit-learn) (1.4.0)\n",
            "Requirement already satisfied: threadpoolctl>=2.0.0 in /usr/local/lib/python3.10/dist-packages (from scikit-learn) (3.4.0)\n"
          ]
        },
        {
          "output_type": "stream",
          "name": "stderr",
          "text": [
            "[nltk_data] Downloading package punkt to /root/nltk_data...\n",
            "[nltk_data]   Unzipping tokenizers/punkt.zip.\n",
            "[nltk_data] Downloading package stopwords to /root/nltk_data...\n",
            "[nltk_data]   Unzipping corpora/stopwords.zip.\n"
          ]
        },
        {
          "output_type": "execute_result",
          "data": {
            "text/plain": [
              "True"
            ]
          },
          "metadata": {},
          "execution_count": 18
        }
      ],
      "source": [
        "!pip install docx2txt\n",
        "!pip install scikit-learn\n",
        "import nltk\n",
        "import docx2txt\n",
        "from nltk.corpus import stopwords\n",
        "from nltk.tokenize import word_tokenize\n",
        "nltk.download('punkt')\n",
        "nltk.download('stopwords')"
      ]
    },
    {
      "cell_type": "code",
      "source": [
        "job_description = docx2txt.process('/content/description.docx')\n",
        "resume = docx2txt.process('/content/Copy of Computer_Science_Resume.docx')"
      ],
      "metadata": {
        "id": "GVOngjDT_76D"
      },
      "execution_count": null,
      "outputs": []
    },
    {
      "cell_type": "code",
      "source": [
        "print(resume)"
      ],
      "metadata": {
        "id": "cVcNgJKyDeyM"
      },
      "execution_count": null,
      "outputs": []
    },
    {
      "cell_type": "code",
      "source": [
        "stop_words = set(stopwords.words('english'))\n",
        "words = word_tokenize(job_description)\n",
        "keywords = [word.lower() for word in words if word.lower() not in stop_words and word.isalnum()]\n",
        "desc = [job_description]\n",
        "res = [resume]\n",
        "content = [job_description, resume]"
      ],
      "metadata": {
        "id": "XmKOhGZ6DoF6"
      },
      "execution_count": null,
      "outputs": []
    },
    {
      "cell_type": "code",
      "source": [
        "from sklearn.feature_extraction.text import CountVectorizer\n",
        "cv = CountVectorizer()\n",
        "matrix = cv.fit_transform(content)"
      ],
      "metadata": {
        "id": "INyl3MuCDux_"
      },
      "execution_count": null,
      "outputs": []
    },
    {
      "cell_type": "code",
      "source": [
        "from sklearn.metrics.pairwise import cosine_similarity\n",
        "similarity_matrix = cosine_similarity(matrix)"
      ],
      "metadata": {
        "id": "5OixoqUOEjyO"
      },
      "execution_count": null,
      "outputs": []
    },
    {
      "cell_type": "code",
      "source": [
        "print(similarity_matrix)"
      ],
      "metadata": {
        "colab": {
          "base_uri": "https://localhost:8080/"
        },
        "id": "3BRzuXEuExRN",
        "outputId": "2140d48b-1da8-498e-8123-ce3a518ee196"
      },
      "execution_count": null,
      "outputs": [
        {
          "output_type": "stream",
          "name": "stdout",
          "text": [
            "[[1.         0.59381084]\n",
            " [0.59381084 1.        ]]\n"
          ]
        }
      ]
    },
    {
      "cell_type": "code",
      "source": [
        "print('Resume matches by',round(similarity_matrix[1][0]*100,2),'%')"
      ],
      "metadata": {
        "colab": {
          "base_uri": "https://localhost:8080/"
        },
        "id": "gWpK8mRYE2Sk",
        "outputId": "481369d0-7a2c-41a2-ae20-f05402972b53"
      },
      "execution_count": null,
      "outputs": [
        {
          "output_type": "stream",
          "name": "stdout",
          "text": [
            "Resume matches by 59.38 %\n"
          ]
        }
      ]
    },
    {
      "cell_type": "code",
      "source": [
        "print(\"Suggested words to add to the resume:\")\n",
        "print(keywords)"
      ],
      "metadata": {
        "colab": {
          "base_uri": "https://localhost:8080/"
        },
        "id": "z1VBh_3R8yjQ",
        "outputId": "80264935-dbe4-4fe6-ef29-e6edc5f7183b"
      },
      "execution_count": null,
      "outputs": [
        {
          "output_type": "stream",
          "name": "stdout",
          "text": [
            "Suggested words to add to the resume:\n",
            "['position', 'overview', 'seeking', 'talented', 'motivated', 'computer', 'engineer', 'join', 'team', 'ideal', 'candidate', 'strong', 'background', 'computer', 'engineering', 'principles', 'expertise', 'hardware', 'software', 'development', 'computer', 'engineer', 'play', 'key', 'role', 'designing', 'developing', 'implementing', 'innovative', 'solutions', 'address', 'complex', 'challenges', 'specify', 'relevant', 'field', 'embedded', 'systems', 'network', 'infrastructure', 'robotics', 'responsibilities', 'collaborate', 'teams', 'define', 'project', 'requirements', 'specifications', 'design', 'develop', 'hardware', 'components', 'systems', 'including', 'circuit', 'boards', 'processors', 'memory', 'devices', 'conduct', 'feasibility', 'studies', 'performance', 'analyses', 'evaluate', 'design', 'concepts', 'make', 'recommendations', 'improvements', 'implement', 'test', 'software', 'applications', 'firmware', 'embedded', 'systems', 'troubleshoot', 'debug', 'issues', 'hardware', 'software', 'systems', 'optimize', 'system', 'performance', 'reliability', 'hardware', 'software', 'enhancements', 'stay', 'current', 'industry', 'trends', 'advancements', 'computer', 'engineering', 'technologies', 'document', 'design', 'specifications', 'test', 'procedures', 'technical', 'reports', 'qualifications', 'bachelor', 'degree', 'computer', 'engineering', 'electrical', 'engineering', 'related', 'field', 'master', 'degree', 'preferred', 'proven', 'experience', 'hardware', 'design', 'including', 'schematic', 'capture', 'pcb', 'layout', 'prototyping', 'proficiency', 'programming', 'languages', 'python', 'strong', 'understanding', 'computer', 'architecture', 'digital', 'signal', 'processing', 'embedded', 'systems', 'experience', 'cad', 'tools', 'altium', 'designer', 'cadence', 'orcad', 'simulation', 'software', 'spice', 'excellent', 'skills', 'attention', 'detail', 'ability', 'work', 'independently', 'part', 'team', 'environment', 'effective', 'communication', 'skills', 'ability', 'convey', 'technical', 'concepts', 'stakeholders', 'preferred', 'qualifications', 'experience', 'fpga', 'programming', 'development', 'tools', 'knowledge', 'operating', 'systems', 'rtos', 'device', 'drivers', 'familiarity', 'communication', 'protocols', 'spi', 'i2c', 'uart', 'ethernet', 'experience', 'integration', 'understanding', 'power', 'management', 'thermal', 'analysis', 'electronic', 'systems']\n"
          ]
        }
      ]
    }
  ]
}